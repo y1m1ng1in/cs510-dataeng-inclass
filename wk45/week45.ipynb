{
 "cells": [
  {
   "cell_type": "code",
   "execution_count": 1,
   "metadata": {},
   "outputs": [],
   "source": [
    "import pandas as pd\n",
    "import numpy as np\n",
    "import matplotlib.pyplot as plt\n",
    "import seaborn as sns\n",
    "import json"
   ]
  },
  {
   "cell_type": "code",
   "execution_count": 2,
   "metadata": {},
   "outputs": [
    {
     "data": {
      "text/html": [
       "<div>\n",
       "<style scoped>\n",
       "    .dataframe tbody tr th:only-of-type {\n",
       "        vertical-align: middle;\n",
       "    }\n",
       "\n",
       "    .dataframe tbody tr th {\n",
       "        vertical-align: top;\n",
       "    }\n",
       "\n",
       "    .dataframe thead th {\n",
       "        text-align: right;\n",
       "    }\n",
       "</style>\n",
       "<table border=\"1\" class=\"dataframe\">\n",
       "  <thead>\n",
       "    <tr style=\"text-align: right;\">\n",
       "      <th></th>\n",
       "      <th>Crash ID</th>\n",
       "      <th>Record Type</th>\n",
       "      <th>Vehicle ID</th>\n",
       "      <th>Participant ID</th>\n",
       "      <th>Participant Display Seq#</th>\n",
       "      <th>Vehicle Coded Seq#</th>\n",
       "      <th>Participant Vehicle Seq#</th>\n",
       "      <th>Serial #</th>\n",
       "      <th>Crash Month</th>\n",
       "      <th>Crash Day</th>\n",
       "      <th>...</th>\n",
       "      <th>Participant Cause 2 Code</th>\n",
       "      <th>Participant Cause 3 Code</th>\n",
       "      <th>Participant Event 1 Code</th>\n",
       "      <th>Participant Event 2 Code</th>\n",
       "      <th>Participant Event 3 Code</th>\n",
       "      <th>BAC Test Results Code</th>\n",
       "      <th>Alcohol Use Reported</th>\n",
       "      <th>Drug Use Reported</th>\n",
       "      <th>Participant Marijuana Use Reported</th>\n",
       "      <th>Participant Striker Flag</th>\n",
       "    </tr>\n",
       "  </thead>\n",
       "  <tbody>\n",
       "    <tr>\n",
       "      <th>0</th>\n",
       "      <td>1809119</td>\n",
       "      <td>1</td>\n",
       "      <td>NaN</td>\n",
       "      <td>NaN</td>\n",
       "      <td>NaN</td>\n",
       "      <td>NaN</td>\n",
       "      <td>NaN</td>\n",
       "      <td>99992.0</td>\n",
       "      <td>3.0</td>\n",
       "      <td>14.0</td>\n",
       "      <td>...</td>\n",
       "      <td>NaN</td>\n",
       "      <td>NaN</td>\n",
       "      <td>NaN</td>\n",
       "      <td>NaN</td>\n",
       "      <td>NaN</td>\n",
       "      <td>NaN</td>\n",
       "      <td>NaN</td>\n",
       "      <td>NaN</td>\n",
       "      <td>NaN</td>\n",
       "      <td>NaN</td>\n",
       "    </tr>\n",
       "    <tr>\n",
       "      <th>1</th>\n",
       "      <td>1809119</td>\n",
       "      <td>2</td>\n",
       "      <td>3409578.0</td>\n",
       "      <td>NaN</td>\n",
       "      <td>NaN</td>\n",
       "      <td>1.0</td>\n",
       "      <td>NaN</td>\n",
       "      <td>NaN</td>\n",
       "      <td>NaN</td>\n",
       "      <td>NaN</td>\n",
       "      <td>...</td>\n",
       "      <td>NaN</td>\n",
       "      <td>NaN</td>\n",
       "      <td>NaN</td>\n",
       "      <td>NaN</td>\n",
       "      <td>NaN</td>\n",
       "      <td>NaN</td>\n",
       "      <td>NaN</td>\n",
       "      <td>NaN</td>\n",
       "      <td>NaN</td>\n",
       "      <td>NaN</td>\n",
       "    </tr>\n",
       "    <tr>\n",
       "      <th>2</th>\n",
       "      <td>1809119</td>\n",
       "      <td>3</td>\n",
       "      <td>3409578.0</td>\n",
       "      <td>3887884.0</td>\n",
       "      <td>1.0</td>\n",
       "      <td>1.0</td>\n",
       "      <td>1.0</td>\n",
       "      <td>NaN</td>\n",
       "      <td>NaN</td>\n",
       "      <td>NaN</td>\n",
       "      <td>...</td>\n",
       "      <td>NaN</td>\n",
       "      <td>0.0</td>\n",
       "      <td>9.0</td>\n",
       "      <td>0.0</td>\n",
       "      <td>0.0</td>\n",
       "      <td>NaN</td>\n",
       "      <td>NaN</td>\n",
       "      <td>NaN</td>\n",
       "      <td>NaN</td>\n",
       "      <td>NaN</td>\n",
       "    </tr>\n",
       "    <tr>\n",
       "      <th>3</th>\n",
       "      <td>1809119</td>\n",
       "      <td>2</td>\n",
       "      <td>3409579.0</td>\n",
       "      <td>NaN</td>\n",
       "      <td>NaN</td>\n",
       "      <td>2.0</td>\n",
       "      <td>NaN</td>\n",
       "      <td>NaN</td>\n",
       "      <td>NaN</td>\n",
       "      <td>NaN</td>\n",
       "      <td>...</td>\n",
       "      <td>NaN</td>\n",
       "      <td>NaN</td>\n",
       "      <td>NaN</td>\n",
       "      <td>NaN</td>\n",
       "      <td>NaN</td>\n",
       "      <td>NaN</td>\n",
       "      <td>NaN</td>\n",
       "      <td>NaN</td>\n",
       "      <td>NaN</td>\n",
       "      <td>NaN</td>\n",
       "    </tr>\n",
       "    <tr>\n",
       "      <th>4</th>\n",
       "      <td>1809119</td>\n",
       "      <td>3</td>\n",
       "      <td>3409579.0</td>\n",
       "      <td>3887885.0</td>\n",
       "      <td>2.0</td>\n",
       "      <td>2.0</td>\n",
       "      <td>1.0</td>\n",
       "      <td>NaN</td>\n",
       "      <td>NaN</td>\n",
       "      <td>NaN</td>\n",
       "      <td>...</td>\n",
       "      <td>NaN</td>\n",
       "      <td>NaN</td>\n",
       "      <td>9.0</td>\n",
       "      <td>9.0</td>\n",
       "      <td>0.0</td>\n",
       "      <td>NaN</td>\n",
       "      <td>NaN</td>\n",
       "      <td>NaN</td>\n",
       "      <td>NaN</td>\n",
       "      <td>NaN</td>\n",
       "    </tr>\n",
       "  </tbody>\n",
       "</table>\n",
       "<p>5 rows × 157 columns</p>\n",
       "</div>"
      ],
      "text/plain": [
       "   Crash ID  Record Type  Vehicle ID  Participant ID  \\\n",
       "0   1809119            1         NaN             NaN   \n",
       "1   1809119            2   3409578.0             NaN   \n",
       "2   1809119            3   3409578.0       3887884.0   \n",
       "3   1809119            2   3409579.0             NaN   \n",
       "4   1809119            3   3409579.0       3887885.0   \n",
       "\n",
       "   Participant Display Seq#  Vehicle Coded Seq#  Participant Vehicle Seq#  \\\n",
       "0                       NaN                 NaN                       NaN   \n",
       "1                       NaN                 1.0                       NaN   \n",
       "2                       1.0                 1.0                       1.0   \n",
       "3                       NaN                 2.0                       NaN   \n",
       "4                       2.0                 2.0                       1.0   \n",
       "\n",
       "   Serial #  Crash Month  Crash Day  ...  Participant Cause 2 Code  \\\n",
       "0   99992.0          3.0       14.0  ...                       NaN   \n",
       "1       NaN          NaN        NaN  ...                       NaN   \n",
       "2       NaN          NaN        NaN  ...                       NaN   \n",
       "3       NaN          NaN        NaN  ...                       NaN   \n",
       "4       NaN          NaN        NaN  ...                       NaN   \n",
       "\n",
       "   Participant Cause 3 Code  Participant Event 1 Code  \\\n",
       "0                       NaN                       NaN   \n",
       "1                       NaN                       NaN   \n",
       "2                       0.0                       9.0   \n",
       "3                       NaN                       NaN   \n",
       "4                       NaN                       9.0   \n",
       "\n",
       "   Participant Event 2 Code  Participant Event 3 Code  BAC Test Results Code  \\\n",
       "0                       NaN                       NaN                    NaN   \n",
       "1                       NaN                       NaN                    NaN   \n",
       "2                       0.0                       0.0                    NaN   \n",
       "3                       NaN                       NaN                    NaN   \n",
       "4                       9.0                       0.0                    NaN   \n",
       "\n",
       "   Alcohol Use Reported  Drug Use Reported  \\\n",
       "0                   NaN                NaN   \n",
       "1                   NaN                NaN   \n",
       "2                   NaN                NaN   \n",
       "3                   NaN                NaN   \n",
       "4                   NaN                NaN   \n",
       "\n",
       "   Participant Marijuana Use Reported  Participant Striker Flag  \n",
       "0                                 NaN                       NaN  \n",
       "1                                 NaN                       NaN  \n",
       "2                                 NaN                       NaN  \n",
       "3                                 NaN                       NaN  \n",
       "4                                 NaN                       NaN  \n",
       "\n",
       "[5 rows x 157 columns]"
      ]
     },
     "execution_count": 2,
     "metadata": {},
     "output_type": "execute_result"
    }
   ],
   "source": [
    "df = pd.read_csv(\"data.csv\")    \n",
    "df.head()"
   ]
  },
  {
   "cell_type": "code",
   "execution_count": 3,
   "metadata": {},
   "outputs": [],
   "source": [
    "crashes_df = df[df['Record Type'] == 1]\n",
    "vehicles_df = df[df['Record Type'] == 2]\n",
    "participants_df = df[df['Record Type'] == 3]\n",
    "\n",
    "crashes_df_len = len(crashes_df)\n",
    "vehicles_df_len = len(vehicles_df)\n",
    "participants_df_len = len(participants_df)"
   ]
  },
  {
   "cell_type": "code",
   "execution_count": 4,
   "metadata": {},
   "outputs": [],
   "source": [
    "check_all_rows = lambda column_name: lambda df: len(df[df[column_name].isnull()])\n",
    "types_df = [crashes_df, vehicles_df, participants_df]\n",
    "lens_df = [crashes_df_len, vehicles_df_len, participants_df_len]"
   ]
  },
  {
   "cell_type": "markdown",
   "metadata": {},
   "source": [
    "Validate Every record has a crash id"
   ]
  },
  {
   "cell_type": "code",
   "execution_count": 5,
   "metadata": {},
   "outputs": [
    {
     "name": "stdout",
     "output_type": "stream",
     "text": [
      "# of nan serial number [0, 0, 0]\n",
      "# of entries [508, 1015, 1216]\n"
     ]
    }
   ],
   "source": [
    "num_of_nan_crashid = check_all_rows('Crash ID')\n",
    "crashid_not_nan = [num_of_nan_crashid(df) for df in types_df]\n",
    "\n",
    "print(\"# of nan serial number\", crashid_not_nan)\n",
    "print(\"# of entries\", lens_df)"
   ]
  },
  {
   "cell_type": "markdown",
   "metadata": {},
   "source": [
    "Validate Every record has a serial number, the running result show that only every type 1 record has a serial number"
   ]
  },
  {
   "cell_type": "code",
   "execution_count": 6,
   "metadata": {},
   "outputs": [
    {
     "name": "stdout",
     "output_type": "stream",
     "text": [
      "# of nan serial number [0, 1015, 1216]\n",
      "# of entries [508, 1015, 1216]\n"
     ]
    }
   ],
   "source": [
    "num_of_nan_serial = check_all_rows('Serial #')\n",
    "serial_not_nan = [num_of_nan_serial(df) for df in types_df]\n",
    "\n",
    "print(\"# of nan serial number\", serial_not_nan)\n",
    "print(\"# of entries\", lens_df)"
   ]
  },
  {
   "cell_type": "markdown",
   "metadata": {},
   "source": [
    "Validate Every serial number is between 0 and 99999"
   ]
  },
  {
   "cell_type": "code",
   "execution_count": 7,
   "metadata": {},
   "outputs": [
    {
     "name": "stdout",
     "output_type": "stream",
     "text": [
      "# of serial in [0,99999] 508\n",
      "# of entries 508\n"
     ]
    }
   ],
   "source": [
    "serial_in_range = crashes_df[(crashes_df['Serial #'] > 0) & (crashes_df['Serial #'] < 99999)]\n",
    "\n",
    "print(\"# of serial in [0,99999]\", len(serial_in_range))\n",
    "print(\"# of entries\", crashes_df_len)"
   ]
  },
  {
   "cell_type": "markdown",
   "metadata": {},
   "source": [
    "Validate Every entered posted speed is between 0 and 65. First find which table contains posted speed: only type 1 table (crashes df) contains posted speed; then check all the entries in crashes df"
   ]
  },
  {
   "cell_type": "code",
   "execution_count": 8,
   "metadata": {},
   "outputs": [
    {
     "name": "stdout",
     "output_type": "stream",
     "text": [
      "[0, 1015, 1216]\n",
      "# of entries [508, 1015, 1216]\n"
     ]
    }
   ],
   "source": [
    "num_of_nan_posted_speed = check_all_rows('Posted Speed Limit')\n",
    "posted_speed_not_nan = [num_of_nan_posted_speed(df) for df in types_df]\n",
    "\n",
    "print(posted_speed_not_nan)\n",
    "print(\"# of entries\", lens_df)"
   ]
  },
  {
   "cell_type": "code",
   "execution_count": 9,
   "metadata": {},
   "outputs": [
    {
     "name": "stdout",
     "output_type": "stream",
     "text": [
      "# of posted speed in [0, 65] 508\n",
      "# of entries 508\n"
     ]
    }
   ],
   "source": [
    "posted_speed_in_range = crashes_df[(crashes_df['Posted Speed Limit'] >= 0) & (crashes_df['Posted Speed Limit'] <= 65)]\n",
    "\n",
    "print(\"# of posted speed in [0, 65]\", len(posted_speed_in_range))\n",
    "print(\"# of entries\", crashes_df_len)"
   ]
  },
  {
   "cell_type": "markdown",
   "metadata": {},
   "source": [
    "Validate When Highway Number is entered, Impact Location Code must be a Numeric value <= 14. The running result shows that there are 3 records don't have a numeric value."
   ]
  },
  {
   "cell_type": "code",
   "execution_count": 10,
   "metadata": {},
   "outputs": [
    {
     "name": "stdout",
     "output_type": "stream",
     "text": [
      "# of nan highway number [0, 1015, 1216]\n",
      "# of nan impact location [0, 1015, 1216]\n",
      "# of entries [508, 1015, 1216]\n"
     ]
    }
   ],
   "source": [
    "num_of_nan_highway_num = check_all_rows('Highway Number')\n",
    "num_of_nan_impact_loc = check_all_rows('Impact Location')\n",
    "\n",
    "highway_num_not_nan = [num_of_nan_highway_num(df) for df in types_df]\n",
    "impact_loc_not_nan = [num_of_nan_impact_loc(df) for df in types_df]\n",
    "\n",
    "print(\"# of nan highway number\", highway_num_not_nan)\n",
    "print(\"# of nan impact location\", impact_loc_not_nan)\n",
    "print(\"# of entries\", lens_df)"
   ]
  },
  {
   "cell_type": "code",
   "execution_count": 11,
   "metadata": {},
   "outputs": [
    {
     "data": {
      "text/plain": [
       "192     False\n",
       "1318    False\n",
       "1879    False\n",
       "Name: Impact Location, dtype: bool"
      ]
     },
     "execution_count": 11,
     "metadata": {},
     "output_type": "execute_result"
    }
   ],
   "source": [
    "check_numeric = crashes_df['Impact Location'].str.isnumeric()\n",
    "check_numeric.loc[check_numeric == False]"
   ]
  },
  {
   "cell_type": "markdown",
   "metadata": {},
   "source": [
    "Validate When Crash Type Code = 4 (Train), one of Crash-level Event code values must be 111, 112, 113, 015 or 016. The running result shows that only 7 records satisify this assertion out of 417 records with Crash Type Code = 4 "
   ]
  },
  {
   "cell_type": "code",
   "execution_count": 12,
   "metadata": {},
   "outputs": [
    {
     "name": "stdout",
     "output_type": "stream",
     "text": [
      "# of satisified records 7\n",
      "# of entries 417\n"
     ]
    }
   ],
   "source": [
    "crash_type_code_4 = crashes_df[crashes_df['Crash Type'] == 4]\n",
    "options = [111, 112, 113, 15, 16]\n",
    "crash_lvl_evt_satisified = crash_type_code_4[((crash_type_code_4['Crash Level Event 1 Code'].isin(options))\n",
    "                                            | (crash_type_code_4['Crash Level Event 2 Code'].isin(options))\n",
    "                                            | (crash_type_code_4['Crash Level Event 3 Code'].isin(options)))]\n",
    "\n",
    "print(\"# of satisified records\", len(crash_lvl_evt_satisified))\n",
    "print(\"# of entries\", len(crash_type_code_4))"
   ]
  },
  {
   "cell_type": "markdown",
   "metadata": {},
   "source": [
    "Validate When crash type is 1 or 2, at least two records with distinct vehicle ID must associate with that crash ID. The running result show that crash ID 1809229, 1809637, 1810874 and 1816804 only associate with one vehicle."
   ]
  },
  {
   "cell_type": "code",
   "execution_count": 22,
   "metadata": {},
   "outputs": [
    {
     "name": "stdout",
     "output_type": "stream",
     "text": [
      "0     1809119\n",
      "5     1809229\n",
      "9     1809637\n",
      "12    1810874\n",
      "16    1812266\n",
      "26    1815964\n",
      "31    1816804\n",
      "Name: Crash ID, dtype: int64\n"
     ]
    },
    {
     "data": {
      "text/html": [
       "<div>\n",
       "<style scoped>\n",
       "    .dataframe tbody tr th:only-of-type {\n",
       "        vertical-align: middle;\n",
       "    }\n",
       "\n",
       "    .dataframe tbody tr th {\n",
       "        vertical-align: top;\n",
       "    }\n",
       "\n",
       "    .dataframe thead tr th {\n",
       "        text-align: left;\n",
       "    }\n",
       "\n",
       "    .dataframe thead tr:last-of-type th {\n",
       "        text-align: right;\n",
       "    }\n",
       "</style>\n",
       "<table border=\"1\" class=\"dataframe\">\n",
       "  <thead>\n",
       "    <tr>\n",
       "      <th></th>\n",
       "      <th>Vehicle ID</th>\n",
       "    </tr>\n",
       "    <tr>\n",
       "      <th></th>\n",
       "      <th>count</th>\n",
       "    </tr>\n",
       "    <tr>\n",
       "      <th>Crash ID</th>\n",
       "      <th></th>\n",
       "    </tr>\n",
       "  </thead>\n",
       "  <tbody>\n",
       "    <tr>\n",
       "      <th>1809119</th>\n",
       "      <td>2</td>\n",
       "    </tr>\n",
       "    <tr>\n",
       "      <th>1809229</th>\n",
       "      <td>1</td>\n",
       "    </tr>\n",
       "    <tr>\n",
       "      <th>1809637</th>\n",
       "      <td>1</td>\n",
       "    </tr>\n",
       "    <tr>\n",
       "      <th>1810874</th>\n",
       "      <td>1</td>\n",
       "    </tr>\n",
       "    <tr>\n",
       "      <th>1812266</th>\n",
       "      <td>4</td>\n",
       "    </tr>\n",
       "    <tr>\n",
       "      <th>1815964</th>\n",
       "      <td>2</td>\n",
       "    </tr>\n",
       "    <tr>\n",
       "      <th>1816804</th>\n",
       "      <td>1</td>\n",
       "    </tr>\n",
       "  </tbody>\n",
       "</table>\n",
       "</div>"
      ],
      "text/plain": [
       "         Vehicle ID\n",
       "              count\n",
       "Crash ID           \n",
       "1809119           2\n",
       "1809229           1\n",
       "1809637           1\n",
       "1810874           1\n",
       "1812266           4\n",
       "1815964           2\n",
       "1816804           1"
      ]
     },
     "execution_count": 22,
     "metadata": {},
     "output_type": "execute_result"
    }
   ],
   "source": [
    "crash_type_code_1_or_2 = crashes_df[crashes_df['Crash Type'].isin([1, 2])]\n",
    "print(crash_type_code_1_or_2['Crash ID'])\n",
    "vehicles = vehicles_df[vehicles_df['Crash ID'].isin(crash_type_code_1_or_2['Crash ID'])]\n",
    "vehicles.groupby(['Crash ID']).agg(['count'])[['Vehicle ID']]"
   ]
  },
  {
   "cell_type": "markdown",
   "metadata": {},
   "source": [
    "Validate For each crash ID, there must be at least three records associated with it (record type 1, record type 2, and record type 3). The following code check each row of joined 3 table if each row the crash id is identical after remove duplicates. The resulting \"eq\" operator returns a dataframe that shows that all the rows are \"True\" (count 508, unique 1 with value True\")."
   ]
  },
  {
   "cell_type": "code",
   "execution_count": 50,
   "metadata": {},
   "outputs": [
    {
     "data": {
      "text/html": [
       "<div>\n",
       "<style scoped>\n",
       "    .dataframe tbody tr th:only-of-type {\n",
       "        vertical-align: middle;\n",
       "    }\n",
       "\n",
       "    .dataframe tbody tr th {\n",
       "        vertical-align: top;\n",
       "    }\n",
       "\n",
       "    .dataframe thead th {\n",
       "        text-align: right;\n",
       "    }\n",
       "</style>\n",
       "<table border=\"1\" class=\"dataframe\">\n",
       "  <thead>\n",
       "    <tr style=\"text-align: right;\">\n",
       "      <th></th>\n",
       "      <th>Crash ID</th>\n",
       "      <th>Crash ID_vehicles</th>\n",
       "      <th>Crash ID_participants</th>\n",
       "    </tr>\n",
       "  </thead>\n",
       "  <tbody>\n",
       "    <tr>\n",
       "      <th>count</th>\n",
       "      <td>508</td>\n",
       "      <td>508</td>\n",
       "      <td>508</td>\n",
       "    </tr>\n",
       "    <tr>\n",
       "      <th>unique</th>\n",
       "      <td>1</td>\n",
       "      <td>1</td>\n",
       "      <td>1</td>\n",
       "    </tr>\n",
       "    <tr>\n",
       "      <th>top</th>\n",
       "      <td>True</td>\n",
       "      <td>True</td>\n",
       "      <td>True</td>\n",
       "    </tr>\n",
       "    <tr>\n",
       "      <th>freq</th>\n",
       "      <td>508</td>\n",
       "      <td>508</td>\n",
       "      <td>508</td>\n",
       "    </tr>\n",
       "  </tbody>\n",
       "</table>\n",
       "</div>"
      ],
      "text/plain": [
       "       Crash ID Crash ID_vehicles Crash ID_participants\n",
       "count       508               508                   508\n",
       "unique        1                 1                     1\n",
       "top        True              True                  True\n",
       "freq        508               508                   508"
      ]
     },
     "execution_count": 50,
     "metadata": {},
     "output_type": "execute_result"
    }
   ],
   "source": [
    "crashes_df_ids = crashes_df[['Crash ID']].reset_index()\n",
    "vehicles_df_ids = vehicles_df[['Crash ID']].drop_duplicates().reset_index()\n",
    "participants_df_ids = participants_df[['Crash ID']].drop_duplicates().reset_index()\n",
    "\n",
    "joined = crashes_df_ids.join(vehicles_df_ids, rsuffix='_vehicles').join(participants_df_ids, rsuffix='_participants')\n",
    "\n",
    "joined[['Crash ID', 'Crash ID_vehicles', 'Crash ID_participants']].eq(joined.iloc[:, 1], axis=0).describe()"
   ]
  },
  {
   "cell_type": "markdown",
   "metadata": {},
   "source": [
    "Validate Every crash has at least one associated vehicle ID."
   ]
  },
  {
   "cell_type": "code",
   "execution_count": 69,
   "metadata": {},
   "outputs": [
    {
     "data": {
      "text/plain": [
       "Vehicle ID  count    1.0\n",
       "Name: min, dtype: float64"
      ]
     },
     "execution_count": 69,
     "metadata": {},
     "output_type": "execute_result"
    }
   ],
   "source": [
    "distinct_vehicle_counter = vehicles_df.groupby(['Crash ID']).agg(['count'])[['Vehicle ID']]\n",
    "distinct_vehicle_counter.describe().loc['min']"
   ]
  },
  {
   "cell_type": "markdown",
   "metadata": {},
   "source": [
    "Validate Every crash has a unique combination of country code, year with serial number"
   ]
  },
  {
   "cell_type": "code",
   "execution_count": 78,
   "metadata": {},
   "outputs": [
    {
     "data": {
      "text/html": [
       "<div>\n",
       "<style scoped>\n",
       "    .dataframe tbody tr th:only-of-type {\n",
       "        vertical-align: middle;\n",
       "    }\n",
       "\n",
       "    .dataframe tbody tr th {\n",
       "        vertical-align: top;\n",
       "    }\n",
       "\n",
       "    .dataframe thead th {\n",
       "        text-align: right;\n",
       "    }\n",
       "</style>\n",
       "<table border=\"1\" class=\"dataframe\">\n",
       "  <thead>\n",
       "    <tr style=\"text-align: right;\">\n",
       "      <th></th>\n",
       "      <th>count</th>\n",
       "    </tr>\n",
       "  </thead>\n",
       "  <tbody>\n",
       "    <tr>\n",
       "      <th>count</th>\n",
       "      <td>508</td>\n",
       "    </tr>\n",
       "    <tr>\n",
       "      <th>unique</th>\n",
       "      <td>1</td>\n",
       "    </tr>\n",
       "    <tr>\n",
       "      <th>top</th>\n",
       "      <td>True</td>\n",
       "    </tr>\n",
       "    <tr>\n",
       "      <th>freq</th>\n",
       "      <td>508</td>\n",
       "    </tr>\n",
       "  </tbody>\n",
       "</table>\n",
       "</div>"
      ],
      "text/plain": [
       "       count\n",
       "count    508\n",
       "unique     1\n",
       "top     True\n",
       "freq     508"
      ]
     },
     "execution_count": 78,
     "metadata": {},
     "output_type": "execute_result"
    }
   ],
   "source": [
    "check_unique_comb = (\n",
    "    crashes_df[['County Code', 'Serial #', 'Crash Year']]\n",
    "        .groupby(['County Code', 'Serial #', 'Crash Year'])\n",
    "        .size()\n",
    "        .reset_index()\n",
    "        .rename(columns={0:'count'})\n",
    ")\n",
    "check_unique_comb[['count']].eq(1).describe()"
   ]
  },
  {
   "cell_type": "code",
   "execution_count": null,
   "metadata": {},
   "outputs": [],
   "source": []
  }
 ],
 "metadata": {
  "kernelspec": {
   "display_name": "Python 3",
   "language": "python",
   "name": "python3"
  },
  "language_info": {
   "codemirror_mode": {
    "name": "ipython",
    "version": 3
   },
   "file_extension": ".py",
   "mimetype": "text/x-python",
   "name": "python",
   "nbconvert_exporter": "python",
   "pygments_lexer": "ipython3",
   "version": "3.8.3"
  }
 },
 "nbformat": 4,
 "nbformat_minor": 4
}
